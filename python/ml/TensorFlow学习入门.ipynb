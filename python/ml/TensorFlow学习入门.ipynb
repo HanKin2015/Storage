{
 "cells": [
  {
   "cell_type": "code",
   "execution_count": 1,
   "metadata": {},
   "outputs": [],
   "source": [
    "import tensorflow as tf\n",
    "import numpy as np\n",
    "\n",
    "# 使用 NumPy 生成假数据(phony data), 总共 100 个点.\n",
    "x_data = np.float32(np.random.rand(2, 100)) # 随机输入\n",
    "y_data = np.dot([0.100, 0.200], x_data) + 0.300  # dot矩阵乘法"
   ]
  },
  {
   "cell_type": "code",
   "execution_count": 2,
   "metadata": {},
   "outputs": [
    {
     "name": "stdout",
     "output_type": "stream",
     "text": [
      "[[0.64017284 0.56106978]\n",
      " [0.54347052 0.23909707]\n",
      " [0.15159245 0.23862643]]\n",
      "[[0.45331903 0.04343793]\n",
      " [0.89013638 0.48969554]\n",
      " [0.80919736 0.01360384]]\n"
     ]
    }
   ],
   "source": [
    "# 随机数很重要，rand就产生0-1之间的随机数\n",
    "for i in range(2):\n",
    "    print(np.random.rand(3, 2))  # 3行2列的随机矩阵"
   ]
  },
  {
   "cell_type": "code",
   "execution_count": 8,
   "metadata": {},
   "outputs": [
    {
     "data": {
      "text/plain": [
       "(2, 100)"
      ]
     },
     "execution_count": 8,
     "metadata": {},
     "output_type": "execute_result"
    }
   ],
   "source": [
    "x_data.shape   # 这样看着是2行100列，但也能看作是100行2列特征"
   ]
  },
  {
   "cell_type": "code",
   "execution_count": 5,
   "metadata": {},
   "outputs": [],
   "source": [
    "# 构造一个线性模型，跟上面差不多\n",
    "b = tf.Variable(tf.zeros([1]))\n",
    "W = tf.Variable(tf.random_uniform([1, 2], -1.0, 1.0))\n",
    "y = tf.matmul(W, x_data) + b"
   ]
  },
  {
   "cell_type": "code",
   "execution_count": 6,
   "metadata": {},
   "outputs": [
    {
     "data": {
      "text/plain": [
       "<tf.Tensor 'zeros_1:0' shape=(1,) dtype=float32>"
      ]
     },
     "execution_count": 6,
     "metadata": {},
     "output_type": "execute_result"
    }
   ],
   "source": [
    "tf.zeros([1])"
   ]
  },
  {
   "cell_type": "markdown",
   "metadata": {},
   "source": [
    "python3没有xrange函数，改为range返回的是列表。xrange返回的是生成器。"
   ]
  },
  {
   "cell_type": "code",
   "execution_count": 15,
   "metadata": {},
   "outputs": [
    {
     "name": "stdout",
     "output_type": "stream",
     "text": [
      "0 [[ 0.19996864 -0.16516876]] [1.001713]\n",
      "20 [[0.03838575 0.08012636]] [0.39682913]\n",
      "40 [[0.07773505 0.17102803]] [0.32734454]\n",
      "60 [[0.09304397 0.19245316]] [0.3077412]\n",
      "80 [[0.09794109 0.19794875]] [0.30219403]\n",
      "100 [[0.09940444 0.19943   ]] [0.3006222]\n",
      "120 [[0.09982952 0.1998399 ]] [0.30017647]\n",
      "140 [[0.09995143 0.19995478]] [0.30005005]\n",
      "160 [[0.0999862 0.1999872]] [0.3000142]\n",
      "180 [[0.09999608 0.19999638]] [0.30000404]\n",
      "200 [[0.0999989  0.19999897]] [0.30000114]\n"
     ]
    }
   ],
   "source": [
    "# 最小化方差\n",
    "loss = tf.reduce_mean(tf.square(y - y_data))\n",
    "optimizer = tf.train.GradientDescentOptimizer(0.5)\n",
    "train = optimizer.minimize(loss)\n",
    "\n",
    "# 初始化变量\n",
    "#init = tf.initialize_all_variables()\n",
    "init = tf.global_variables_initializer()\n",
    "\n",
    "# 启动图 (graph)\n",
    "sess = tf.Session()\n",
    "sess.run(init)\n",
    "\n",
    "# 拟合平面\n",
    "for step in range(0, 201):\n",
    "    sess.run(train)\n",
    "    if step % 20 == 0:\n",
    "        print(step, sess.run(W), sess.run(b))\n",
    "\n",
    "# 得到最佳拟合结果 W: [[0.100  0.200]], b: [0.300]"
   ]
  },
  {
   "cell_type": "code",
   "execution_count": null,
   "metadata": {},
   "outputs": [],
   "source": []
  }
 ],
 "metadata": {
  "kernelspec": {
   "display_name": "Python 3",
   "language": "python",
   "name": "python3"
  },
  "language_info": {
   "codemirror_mode": {
    "name": "ipython",
    "version": 3
   },
   "file_extension": ".py",
   "mimetype": "text/x-python",
   "name": "python",
   "nbconvert_exporter": "python",
   "pygments_lexer": "ipython3",
   "version": "3.6.5"
  }
 },
 "nbformat": 4,
 "nbformat_minor": 2
}
